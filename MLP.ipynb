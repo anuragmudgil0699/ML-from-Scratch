{
 "cells": [
  {
   "cell_type": "code",
   "execution_count": 3,
   "metadata": {
    "id": "mXNDjppdC_C3"
   },
   "outputs": [],
   "source": [
    "import torch\n",
    "import torch.nn.functional as F\n",
    "import matplotlib.pyplot as plt # for making figures\n",
    "%matplotlib inline"
   ]
  },
  {
   "cell_type": "code",
   "execution_count": 4,
   "metadata": {
    "colab": {
     "base_uri": "https://localhost:8080/"
    },
    "id": "N3Dz4HpY5L3j",
    "outputId": "a3d26335-0a5a-4361-e609-536679e7bb24"
   },
   "outputs": [
    {
     "name": "stdout",
     "output_type": "stream",
     "text": [
      "zsh:1: command not found: wget\n"
     ]
    }
   ],
   "source": [
    "# download the names.txt file from github\n",
    "!wget https://raw.githubusercontent.com/karpathy/makemore/master/names.txt"
   ]
  },
  {
   "cell_type": "code",
   "execution_count": 5,
   "metadata": {
    "id": "rnMXP0LUEErM"
   },
   "outputs": [],
   "source": [
    "words = open('names.txt').read().splitlines()"
   ]
  },
  {
   "cell_type": "code",
   "execution_count": 6,
   "metadata": {
    "colab": {
     "base_uri": "https://localhost:8080/"
    },
    "id": "lx96yTl8ERKh",
    "outputId": "a6819c9a-fc77-4d7e-a37b-edb8dd5cede5"
   },
   "outputs": [
    {
     "data": {
      "text/plain": [
       "['emma',\n",
       " 'olivia',\n",
       " 'ava',\n",
       " 'isabella',\n",
       " 'sophia',\n",
       " 'charlotte',\n",
       " 'mia',\n",
       " 'amelia',\n",
       " 'harper',\n",
       " 'evelyn']"
      ]
     },
     "execution_count": 6,
     "metadata": {},
     "output_type": "execute_result"
    }
   ],
   "source": [
    "words[0:10]"
   ]
  },
  {
   "cell_type": "code",
   "execution_count": 33,
   "metadata": {
    "id": "CJ1ZQtqsETAA"
   },
   "outputs": [],
   "source": [
    "gram_size = 3\n",
    "neuron_count = 100\n",
    "batch_size = 32\n",
    "iterations = 200000\n",
    "learning_rate = 1"
   ]
  },
  {
   "cell_type": "code",
   "execution_count": 13,
   "metadata": {
    "id": "7uLRFvLtFI1J"
   },
   "outputs": [],
   "source": [
    "def stoi(c):\n",
    "  if c == '.':\n",
    "    return 0\n",
    "  return ord(c) - ord('a') + 1\n",
    "\n",
    "def itos(n):\n",
    "  if n == 0 :\n",
    "    return '.'\n",
    "  return chr(n-1+ord('a'))"
   ]
  },
  {
   "cell_type": "code",
   "execution_count": 15,
   "metadata": {
    "id": "JxGINVIwFt0v"
   },
   "outputs": [],
   "source": [
    "xs = []\n",
    "ys = []"
   ]
  },
  {
   "cell_type": "code",
   "execution_count": 17,
   "metadata": {
    "id": "OFoHtODTEWOj"
   },
   "outputs": [],
   "source": [
    "for word in words:\n",
    "  context = '.' * gram_size + word + '.'\n",
    "  for i in range(len(context)-gram_size):\n",
    "    x = context[i:i+gram_size]\n",
    "    y = context[i+gram_size]\n",
    "    xs.append(x)\n",
    "    ys.append(y)"
   ]
  },
  {
   "cell_type": "code",
   "execution_count": 19,
   "metadata": {
    "id": "bmP3YJhvE6UD"
   },
   "outputs": [],
   "source": [
    "xs_int = []\n",
    "ys_int = []\n",
    "\n",
    "for x,y in zip(xs, ys):\n",
    "  xs_int.append([stoi(ch) for ch in x])\n",
    "  ys_int.append(stoi(y))"
   ]
  },
  {
   "cell_type": "code",
   "execution_count": 21,
   "metadata": {
    "colab": {
     "base_uri": "https://localhost:8080/"
    },
    "id": "Bk9AJ_vPFzhA",
    "outputId": "86aef66d-49d4-4201-9fe8-966f4e46d6a4"
   },
   "outputs": [
    {
     "name": "stdout",
     "output_type": "stream",
     "text": [
      "torch.Size([228146, 3])\n"
     ]
    }
   ],
   "source": [
    "x_tensor = torch.tensor(xs_int)\n",
    "y_tensor = torch.tensor(ys_int)\n",
    "print(x_tensor.shape)"
   ]
  },
  {
   "cell_type": "code",
   "execution_count": 35,
   "metadata": {
    "id": "zBH-khVEGvNo"
   },
   "outputs": [],
   "source": [
    "g = torch.Generator().manual_seed(2147483647)\n",
    "embedding_table = torch.randn((27,2), dtype=torch.float32, generator=g, requires_grad=True)\n",
    "W1 = torch.randn((gram_size*2, neuron_count), dtype=torch.float32, generator=g, requires_grad=True)\n",
    "b1 = torch.randn((neuron_count), dtype=torch.float32, generator=g, requires_grad=True)\n",
    "W2 = torch.randn((neuron_count, 27), dtype=torch.float32, generator=g, requires_grad=True)\n",
    "b2 = torch.randn((27), dtype=torch.float32, generator=g, requires_grad=True)\n",
    "parameters = [embedding_table, W1, b1, W2, b2]"
   ]
  },
  {
   "cell_type": "code",
   "execution_count": 37,
   "metadata": {},
   "outputs": [
    {
     "data": {
      "text/plain": [
       "3481"
      ]
     },
     "execution_count": 37,
     "metadata": {},
     "output_type": "execute_result"
    }
   ],
   "source": [
    "sum(p.nelement() for p in parameters)"
   ]
  },
  {
   "cell_type": "code",
   "execution_count": 39,
   "metadata": {
    "colab": {
     "base_uri": "https://localhost:8080/"
    },
    "id": "wNx56eADNzEc",
    "outputId": "7d43fc58-e8ce-4492-fdb8-56c789741ffe"
   },
   "outputs": [
    {
     "name": "stdout",
     "output_type": "stream",
     "text": [
      "19.99759864807129\n",
      "2.5833096504211426\n",
      "2.205961227416992\n"
     ]
    },
    {
     "ename": "KeyboardInterrupt",
     "evalue": "",
     "output_type": "error",
     "traceback": [
      "\u001b[0;31m---------------------------------------------------------------------------\u001b[0m",
      "\u001b[0;31mKeyboardInterrupt\u001b[0m                         Traceback (most recent call last)",
      "Cell \u001b[0;32mIn[39], line 8\u001b[0m\n\u001b[1;32m      6\u001b[0m \u001b[38;5;66;03m# Forward pass\u001b[39;00m\n\u001b[1;32m      7\u001b[0m x_enc \u001b[38;5;241m=\u001b[39m embedding_table[x_tensor[ix]]\u001b[38;5;241m.\u001b[39mview(\u001b[38;5;241m-\u001b[39m\u001b[38;5;241m1\u001b[39m, W1\u001b[38;5;241m.\u001b[39mshape[\u001b[38;5;241m0\u001b[39m])\n\u001b[0;32m----> 8\u001b[0m h \u001b[38;5;241m=\u001b[39m torch\u001b[38;5;241m.\u001b[39mtanh(x_enc \u001b[38;5;241m@\u001b[39m W1 \u001b[38;5;241m+\u001b[39m b1)\n\u001b[1;32m      9\u001b[0m logits \u001b[38;5;241m=\u001b[39m h \u001b[38;5;241m@\u001b[39m W2 \u001b[38;5;241m+\u001b[39m b2\n\u001b[1;32m     10\u001b[0m loss \u001b[38;5;241m=\u001b[39m F\u001b[38;5;241m.\u001b[39mcross_entropy(logits, y_tensor[ix])\n",
      "\u001b[0;31mKeyboardInterrupt\u001b[0m: "
     ]
    }
   ],
   "source": [
    "for i in range(iterations):\n",
    "\n",
    "  #minibatch\n",
    "  ix = torch.randint(0, x_tensor.shape[0], (batch_size,))\n",
    "\n",
    "  # Forward pass\n",
    "  x_enc = embedding_table[x_tensor[ix]].view(-1, W1.shape[0])\n",
    "  h = torch.tanh(x_enc @ W1 + b1)\n",
    "  logits = h @ W2 + b2\n",
    "  loss = F.cross_entropy(logits, y_tensor[ix])\n",
    "\n",
    "  if i % 50000 == 0:\n",
    "    learning_rate *= 0.1\n",
    "    print(loss.item())\n",
    "\n",
    "  # Set gradient to zero\n",
    "  for p in parameters:\n",
    "    p.grad = None\n",
    "\n",
    "  # Backward pass\n",
    "  loss.backward()\n",
    "\n",
    "  # Update parameters\n",
    "  for p in parameters:\n",
    "    p.data += -learning_rate * p.grad\n",
    "\n",
    "print(loss)"
   ]
  },
  {
   "cell_type": "code",
   "execution_count": 78,
   "metadata": {
    "colab": {
     "base_uri": "https://localhost:8080/"
    },
    "id": "J09odboCOB_H",
    "outputId": "2bd2e18b-3fdf-4efb-e863-2d51e4913f88"
   },
   "outputs": [
    {
     "name": "stdout",
     "output_type": "stream",
     "text": [
      "muca\n",
      "kynnzle\n",
      "jeyloryn\n",
      "marsen\n",
      "sii\n",
      "kahnatarnet\n",
      "akria\n",
      "ramya\n",
      "jamedhn\n",
      "kasemarlonammanka\n",
      "kafeyger\n",
      "mira\n",
      "jashaythey\n",
      "jar\n",
      "arm\n",
      "cale\n",
      "kaxelsaa\n",
      "rhaafayeena\n",
      "sakumarch\n",
      "kanttym\n"
     ]
    }
   ],
   "source": [
    "for i in range(20):\n",
    "  context = [0] * gram_size\n",
    "  out=[]\n",
    "  while True:\n",
    "    context_tensor = torch.tensor([context])\n",
    "    context_enc = embedding_table[context_tensor].view(-1, W1.shape[0])\n",
    "    h_pred = torch.tanh(context_enc @ W1 + b1)\n",
    "    logits_pred = h_pred @ W2 + b2\n",
    "    p = F.softmax(logits_pred, dim=1)\n",
    "    next_index = torch.multinomial(p, num_samples=1, replacement=True, generator=g).item()\n",
    "    if next_index == 0:\n",
    "      break\n",
    "    out.append(itos(next_index))\n",
    "    context = context[1:] + [next_index]\n",
    "  print(''.join(out))"
   ]
  },
  {
   "cell_type": "code",
   "execution_count": 49,
   "metadata": {
    "colab": {
     "base_uri": "https://localhost:8080/",
     "height": 676
    },
    "id": "eK82jW2ve8o3",
    "outputId": "51bd6d8e-8a1e-4c16-86d7-cb0669316348"
   },
   "outputs": [
    {
     "data": {
      "image/png": "[encoded data removed]",
      "text/plain": [
       "<Figure size 800x800 with 1 Axes>"
      ]
     },
     "metadata": {},
     "output_type": "display_data"
    }
   ],
   "source": [
    "C = embedding_table\n",
    "# visualize dimensions 0 and 1 of the embedding matrix C for all characters\n",
    "plt.figure(figsize=(8,8))\n",
    "plt.scatter(C[:,0].data, C[:,1].data, s=200)\n",
    "for i in range(C.shape[0]):\n",
    "    plt.text(C[i,0].item(), C[i,1].item(), itos(i), ha=\"center\", va=\"center\", color='white')\n",
    "plt.grid('minor')"
   ]
  },
  {
   "cell_type": "code",
   "execution_count": 28,
   "metadata": {
    "id": "Xbn9zIiefj8v"
   },
   "outputs": [],
   "source": []
  },
  {
   "cell_type": "markdown",
   "metadata": {
    "id": "MESsA2E2OMfF"
   },
   "source": [
    "Using cross entropy is better because it is faster and prevent nan for exp operations otherwise. See: https://www.youtube.com/watch?v=TCH_1BHY58I&list=PLAqhIrjkxbuWI23v9cThsA9GvCAUhRvKZ&index=3\n"
   ]
  },
  {
   "cell_type": "code",
   "execution_count": null,
   "metadata": {
    "id": "c5vN1ihmOUU0"
   },
   "outputs": [],
   "source": []
  }
 ],
 "metadata": {
  "colab": {
   "provenance": []
  },
  "kernelspec": {
   "display_name": "Python 3 (ipykernel)",
   "language": "python",
   "name": "python3"
  },
  "language_info": {
   "codemirror_mode": {
    "name": "ipython",
    "version": 3
   },
   "file_extension": ".py",
   "mimetype": "text/x-python",
   "name": "python",
   "nbconvert_exporter": "python",
   "pygments_lexer": "ipython3",
   "version": "3.12.4"
  }
 },
 "nbformat": 4,
 "nbformat_minor": 4
}
