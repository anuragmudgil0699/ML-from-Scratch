{
 "cells": [
  {
   "cell_type": "code",
   "execution_count": 39,
   "id": "7af29362-2154-4f1f-a7d2-b9237c116d07",
   "metadata": {},
   "outputs": [],
   "source": [
    "import torch \n",
    "import torch.nn.functional as F\n",
    "import matplotlib.pyplot as plt\n",
    "%matplotlib inline"
   ]
  },
  {
   "cell_type": "code",
   "execution_count": 41,
   "id": "501e8344-f596-4eb2-9e0e-252d43ecc0c7",
   "metadata": {},
   "outputs": [
    {
     "name": "stdout",
     "output_type": "stream",
     "text": [
      "<class 'list'>\n"
     ]
    },
    {
     "data": {
      "text/plain": [
       "['emma', 'olivia', 'ava', 'isabella', 'sophia', 'charlotte', 'mia', 'amelia']"
      ]
     },
     "execution_count": 41,
     "metadata": {},
     "output_type": "execute_result"
    }
   ],
   "source": [
    "words = open(\"names.txt\", 'r').read().splitlines()\n",
    "print(type(words))\n",
    "words[0:8]"
   ]
  },
  {
   "cell_type": "code",
   "execution_count": 43,
   "id": "736d7a02-ba44-4145-ac12-f081dd875589",
   "metadata": {},
   "outputs": [
    {
     "data": {
      "text/plain": [
       "32033"
      ]
     },
     "execution_count": 43,
     "metadata": {},
     "output_type": "execute_result"
    }
   ],
   "source": [
    "len(words)"
   ]
  },
  {
   "cell_type": "code",
   "execution_count": 45,
   "id": "3bffe956-b487-416f-9232-785eda8f37d9",
   "metadata": {},
   "outputs": [],
   "source": [
    "def stoi(c):\n",
    "    if c == '.':\n",
    "        return 0\n",
    "    return ord(c) - ord('a') + 1\n",
    "def itos(x):\n",
    "    if x == 0:\n",
    "        return '.'\n",
    "    return chr(x+ord('a')-1) "
   ]
  },
  {
   "cell_type": "code",
   "execution_count": 47,
   "id": "88f13f41-af03-4d3f-8d5c-7594c862c302",
   "metadata": {},
   "outputs": [],
   "source": [
    "# Parameters\n",
    "block_size = 5\n",
    "num_neurons = 300\n",
    "embedding_size = 10\n",
    "vocab_size = 27\n",
    "mini_batch_size = 32"
   ]
  },
  {
   "cell_type": "code",
   "execution_count": 49,
   "id": "0ce083b7-149f-45d4-a17c-e38c4154a153",
   "metadata": {},
   "outputs": [],
   "source": [
    "X = []\n",
    "Y = []"
   ]
  },
  {
   "cell_type": "code",
   "execution_count": 51,
   "id": "9e3f0f9d-f9d8-4a4f-a8b5-4bb0fed08ea6",
   "metadata": {},
   "outputs": [],
   "source": [
    "def build_dataset(words):\n",
    "    X, Y = [], []\n",
    "    for w in words:\n",
    "       context = [0]*block_size\n",
    "       for ch in w + '.':\n",
    "           ch_y = stoi(ch)\n",
    "           #print(''.join(itos(c) for c in context) + ' --> ' + ch)\n",
    "           X.append(context)\n",
    "           Y.append(ch_y)\n",
    "           context = context[1:] + [ch_y]\n",
    "    X = torch.tensor(X)\n",
    "    Y = torch.tensor(Y)\n",
    "    return X, Y"
   ]
  },
  {
   "cell_type": "code",
   "execution_count": 53,
   "id": "b3e11b51-4405-4433-8bb1-d3527998c436",
   "metadata": {},
   "outputs": [],
   "source": [
    "import random\n",
    "random.seed(42)\n",
    "random.shuffle(words)\n",
    "n1 = int(0.8*len(words))\n",
    "n2 = int(0.9*len(words))"
   ]
  },
  {
   "cell_type": "code",
   "execution_count": 55,
   "id": "9d6f1210-2d85-4696-99cb-dc12bb0b20b3",
   "metadata": {},
   "outputs": [],
   "source": [
    "Xtr, Ytr = build_dataset(words[:n1])\n",
    "Xdev, Ydev = build_dataset(words[n1:n2])\n",
    "Xte, Yte = build_dataset(words[n2:])"
   ]
  },
  {
   "cell_type": "code",
   "execution_count": 56,
   "id": "be3a479a-1065-4196-aba0-2bc7b20d8551",
   "metadata": {},
   "outputs": [],
   "source": [
    "# Network\n",
    "g = torch.Generator().manual_seed(2147483647)\n",
    "C = torch.randn((vocab_size,embedding_size), generator=g)\n",
    "W1 = torch.randn((embedding_size*block_size, num_neurons), generator=g) * (5/3) / ((embedding_size*block_size)**0.5) # 0.2\n",
    "b1 = torch.randn(num_neurons, generator=g) * 0.01\n",
    "W2 = torch.randn((num_neurons, vocab_size), generator=g) * 0.01\n",
    "b2 = torch.randn(vocab_size, generator=g) * 0\n",
    "\n",
    "bngain =  torch.ones((1, num_neurons))\n",
    "bnbias =  torch.zeros((1, num_neurons))\n",
    "bnmean_running =  torch.zeros((1, num_neurons))\n",
    "bnstd_running =  torch.ones((1, num_neurons))\n",
    "\n",
    "\n",
    "parameters = [C, W1, W2, b1, b2, bngain, bnbias]"
   ]
  },
  {
   "cell_type": "code",
   "execution_count": 59,
   "id": "95170257-3017-42bf-8a43-a46f1a21adfb",
   "metadata": {},
   "outputs": [
    {
     "data": {
      "text/plain": [
       "24297"
      ]
     },
     "execution_count": 59,
     "metadata": {},
     "output_type": "execute_result"
    }
   ],
   "source": [
    "sum(p.nelement() for p in parameters)"
   ]
  },
  {
   "cell_type": "code",
   "execution_count": 61,
   "id": "c03fdd80-f3d2-4d7a-8af7-e8340fca6f7f",
   "metadata": {},
   "outputs": [],
   "source": [
    "for p in parameters:\n",
    "    p.requires_grad = True"
   ]
  },
  {
   "cell_type": "markdown",
   "id": "569102c6-0799-4efc-9da1-cd0c89b9e7a2",
   "metadata": {},
   "source": [
    "The idea here is: If you want hpreact to be unit gaussian then why not take hpreact and make them gaussian\n",
    "A possible downside of batch normalisation layer is that hpreact gets changed because of the elements in that batch.\n",
    "This works as a regulariser and thus a good thing"
   ]
  },
  {
   "cell_type": "code",
   "execution_count": 64,
   "id": "e0821bac-98b3-4d6f-98a6-877c00e4713f",
   "metadata": {},
   "outputs": [
    {
     "name": "stdout",
     "output_type": "stream",
     "text": [
      "0/200000:  3.3035\n",
      "10000/200000:  2.3533\n",
      "20000/200000:  1.9961\n",
      "30000/200000:  1.8490\n",
      "40000/200000:  2.3436\n",
      "50000/200000:  2.1566\n",
      "60000/200000:  2.0753\n",
      "70000/200000:  2.2490\n",
      "80000/200000:  2.1013\n",
      "90000/200000:  2.0141\n",
      "100000/200000:  1.9158\n",
      "110000/200000:  2.0890\n",
      "120000/200000:  1.8756\n",
      "130000/200000:  2.1562\n",
      "140000/200000:  2.1553\n",
      "150000/200000:  1.8956\n",
      "160000/200000:  1.7284\n",
      "170000/200000:  1.7677\n",
      "180000/200000:  2.2209\n",
      "190000/200000:  1.9263\n"
     ]
    }
   ],
   "source": [
    "# Training of the neural net\n",
    "max_steps = 200000\n",
    "lossi = []\n",
    "\n",
    "for i in range(max_steps):\n",
    "    # Mini batch works well because it gives us the approximate gradients. It is better to know the approximate gradient and take more steps\n",
    "    # than to know the exact gradient and take fewer steps in that direction\n",
    "    \n",
    "    # minibatch\n",
    "    ix = torch.randint(0, Xtr.shape[0], (mini_batch_size,))\n",
    "    Xb, Yb = Xtr[ix], Ytr[ix]\n",
    "    \n",
    "    # forward Pass\n",
    "    emb = C[Xb]\n",
    "    embcat = emb.view(-1, block_size*embedding_size)\n",
    "\n",
    "    #Linear Layer\n",
    "    hpreact = embcat@W1 + b1\n",
    "\n",
    "    #Batch Norm Layer\n",
    "    bnmeani = hpreact.mean(0, keepdim=True)\n",
    "    bnstdi = hpreact.std(0, keepdim=True)\n",
    "    hpreact = bngain * (hpreact - bnmeani) / bnstdi + bnbias\n",
    "    with torch.no_grad():\n",
    "        bnmean_running = 0.999 * bnmean_running + 0.001 * bnmeani\n",
    "        bnstd_running = 0.999 * bnstd_running + 0.001 * bnstdi\n",
    "\n",
    "    # Non-linearity\n",
    "    h = torch.tanh(hpreact)\n",
    "    logits = h @W2 + b2\n",
    "    loss = F.cross_entropy(logits, Yb)\n",
    "    \n",
    "    # backward Pass\n",
    "    for p in parameters:\n",
    "        p.grad = None\n",
    "    loss.backward()\n",
    "    \n",
    "    #update\n",
    "    lr = 0.1 if i < 100000 else 0.01\n",
    "    for p in parameters:\n",
    "        p.data += -lr * p.grad\n",
    "        \n",
    "    if i % 10000 == 0:\n",
    "        print(f'{i}/{max_steps}: {loss.item(): .4f}')\n",
    "    lossi.append(loss.log10().item())"
   ]
  },
  {
   "cell_type": "code",
   "execution_count": 65,
   "id": "412ec09f-67ed-4221-9024-196daf2e2f4d",
   "metadata": {},
   "outputs": [
    {
     "data": {
      "text/plain": [
       "[<matplotlib.lines.Line2D at 0x159b69e80>]"
      ]
     },
     "execution_count": 65,
     "metadata": {},
     "output_type": "execute_result"
    },
    {
     "data": {
      "image/png": "[encoded data removed]",
      "text/plain": [
       "<Figure size 640x480 with 1 Axes>"
      ]
     },
     "metadata": {},
     "output_type": "display_data"
    }
   ],
   "source": [
    "plt.plot(lossi)"
   ]
  },
  {
   "cell_type": "code",
   "execution_count": 66,
   "id": "cf623b48-d208-4256-938e-c12d940202d2",
   "metadata": {},
   "outputs": [
    {
     "name": "stdout",
     "output_type": "stream",
     "text": [
      "train 1.9270124435424805\n",
      "val 2.030639171600342\n"
     ]
    }
   ],
   "source": [
    "@torch.no_grad()\n",
    "def split_loss(split):\n",
    "    x,y = {\n",
    "        'train': (Xtr, Ytr),\n",
    "        'test': (Xdev, Ydev),\n",
    "        'val': (Xte, Yte), \n",
    "    }[split]\n",
    "    emb = C[x]\n",
    "    embcat = emb.view(-1, block_size*embedding_size)\n",
    "    hpreact = embcat@W1 + b1 \n",
    "    hpreact = bngain * (hpreact - bnmean_running) / bnstd_running + bnbias\n",
    "    h = torch.tanh(hpreact)\n",
    "    logits = h @W2 + b2\n",
    "    loss = F.cross_entropy(logits, y)\n",
    "    print(split, loss.item())\n",
    "\n",
    "split_loss('train')\n",
    "split_loss('val')"
   ]
  },
  {
   "cell_type": "code",
   "execution_count": 76,
   "id": "598e973b-1290-475f-9e6d-d5e1973dfffc",
   "metadata": {},
   "outputs": [
    {
     "name": "stdout",
     "output_type": "stream",
     "text": [
      "chrisha\n",
      "abbil\n",
      "khierre\n",
      "reity\n",
      "skahman\n",
      "jazon\n",
      "nadelynn\n",
      "jarqui\n",
      "nelia\n",
      "archaiir\n",
      "kaleigh\n",
      "hamon\n",
      "catelinn\n",
      "sulilea\n",
      "jadii\n",
      "waje\n",
      "madiaryn\n",
      "kalie\n",
      "pirsle\n",
      "edde\n"
     ]
    }
   ],
   "source": [
    "g = torch.Generator().manual_seed(2147483647 + 10)\n",
    "\n",
    "for _ in range(20):\n",
    "    context = [0] * block_size\n",
    "    out = []\n",
    "    while True:\n",
    "        emb = C[torch.tensor(context)] \n",
    "        hpreact = emb.view(-1, block_size*embedding_size)@W1 + b1\n",
    "        hpreact = bngain * (hpreact - bnmean_running) / bnstd_running + bnbias\n",
    "        h = torch.tanh(hpreact)\n",
    "        logits = h @W2 + b2\n",
    "        probs = F.softmax(logits, dim=1)\n",
    "        ix = torch.multinomial(probs, num_samples=1, generator=g).item()\n",
    "        context = context[1:] + [ix]\n",
    "        if ix == 0:\n",
    "            break\n",
    "        out.append(ix)\n",
    "    print(''.join(itos(i) for i in out))"
   ]
  },
  {
   "cell_type": "code",
   "execution_count": 19,
   "id": "8c52804d-cb8d-426d-9b95-49c23521220d",
   "metadata": {},
   "outputs": [],
   "source": [
    "# Results \n",
    "\n",
    "# At the beginning\n",
    "# train 2.1877903938293457\n",
    "# val 2.2158210277557373\n",
    "\n",
    "# After fixing the initial loss\n",
    "# train 1.9865397214889526\n",
    "# val 2.0994210243225098\n",
    "\n",
    "# After fixing tanh saturation by manually setting it to 0.2\n",
    "# train 1.9122042655944824\n",
    "# val 2.0434210300445557\n",
    "\n",
    "# After fixing tanh saturation after using gain/fan_in\n",
    "# train 1.8737958669662476\n",
    "# val 2.0411834716796875\n",
    "\n",
    "# After batch norm\n",
    "# train 1.926900029182434\n",
    "# val 2.0273077487945557\n"
   ]
  }
 ],
 "metadata": {
  "kernelspec": {
   "display_name": "Python 3 (ipykernel)",
   "language": "python",
   "name": "python3"
  },
  "language_info": {
   "codemirror_mode": {
    "name": "ipython",
    "version": 3
   },
   "file_extension": ".py",
   "mimetype": "text/x-python",
   "name": "python",
   "nbconvert_exporter": "python",
   "pygments_lexer": "ipython3",
   "version": "3.12.4"
  }
 },
 "nbformat": 4,
 "nbformat_minor": 5
}
